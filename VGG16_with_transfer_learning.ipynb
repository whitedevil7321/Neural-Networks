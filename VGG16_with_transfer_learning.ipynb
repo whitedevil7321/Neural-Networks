{
 "cells": [
  {
   "cell_type": "code",
   "execution_count": 1,
   "id": "c83a2c61-04f3-4662-bcae-01aef97b91c3",
   "metadata": {},
   "outputs": [],
   "source": [
    "import torch \n",
    "import torchvision\n",
    "import torchvision.transforms as transforms\n",
    "from torchvision import models\n",
    "import torch.nn as nn\n",
    "import torch.optim as optim\n",
    "from sklearn.metrics import confusion_matrix\n",
    "import itertools\n",
    "import numpy as np \n",
    "import matplotlib.pyplot as plt\n"
   ]
  },
  {
   "cell_type": "code",
   "execution_count": 2,
   "id": "e8070ded-660b-4246-ba01-432123e03796",
   "metadata": {},
   "outputs": [],
   "source": [
    "transform=transforms.Compose([\n",
    "    transforms.Resize((224,224)),\n",
    "    transforms.ToTensor(),\n",
    "    transforms.Normalize(mean=[0.485,0.456,0.406],std=[0.229,0.224,0.225])\n",
    "    \n",
    "])"
   ]
  },
  {
   "cell_type": "code",
   "execution_count": 3,
   "id": "a0d54007-1a1f-4a6a-aa7b-b16e837c033f",
   "metadata": {},
   "outputs": [
    {
     "name": "stdout",
     "output_type": "stream",
     "text": [
      "Files already downloaded and verified\n",
      "Files already downloaded and verified\n"
     ]
    }
   ],
   "source": [
    "#load dataset\n",
    "trainset=torchvision.datasets.CIFAR10(root='./data',train=True,download=True,transform=transform)\n",
    "train_loader=torch.utils.data.DataLoader(trainset,batch_size=32,shuffle=True)\n",
    "\n",
    "\n",
    "\n",
    "#Test Dataset\n",
    "testset=torchvision.datasets.CIFAR10(root='./data',train=False,download=True,transform=transform)\n",
    "test_loader=torch.utils.data.DataLoader(testset,batch_size=32,shuffle=False)"
   ]
  },
  {
   "cell_type": "code",
   "execution_count": 4,
   "id": "c65458ab-e73f-4e2c-b6f9-415b61b702f8",
   "metadata": {},
   "outputs": [
    {
     "name": "stderr",
     "output_type": "stream",
     "text": [
      "C:\\Users\\jaher5\\Desktop\\Neural Networks\\myvenv\\Lib\\site-packages\\torchvision\\models\\_utils.py:208: UserWarning: The parameter 'pretrained' is deprecated since 0.13 and may be removed in the future, please use 'weights' instead.\n",
      "  warnings.warn(\n",
      "C:\\Users\\jaher5\\Desktop\\Neural Networks\\myvenv\\Lib\\site-packages\\torchvision\\models\\_utils.py:223: UserWarning: Arguments other than a weight enum or `None` for 'weights' are deprecated since 0.13 and may be removed in the future. The current behavior is equivalent to passing `weights=VGG16_Weights.IMAGENET1K_V1`. You can also use `weights=VGG16_Weights.DEFAULT` to get the most up-to-date weights.\n",
      "  warnings.warn(msg)\n"
     ]
    }
   ],
   "source": [
    "vgg16=models.vgg16(pretrained=True)\n",
    "for param in vgg16.features.parameters():\n",
    "    param.reguires_grad=False\n",
    "\n",
    "#modify the classifier\n",
    "num_features=vgg16.classifier[6].in_features\n",
    "features=list(vgg16.classifier.children())[:-1]\n",
    "features.extend([nn.Linear(num_features,len(trainset.classes))])\n",
    "vgg16.classifier=nn.Sequential(*features)   #replace classification layer \n",
    "\n",
    "\n",
    "device=torch.device(\"cuda:0\" if torch.cuda.is_available() else \"cpu\")\n",
    "vgg16=vgg16.to(device)\n",
    "\n"
   ]
  },
  {
   "cell_type": "code",
   "execution_count": 5,
   "id": "b5460823-e492-4b0e-8716-e7544968a5c6",
   "metadata": {},
   "outputs": [],
   "source": [
    "criterion=nn.CrossEntropyLoss()\n",
    "optimizer=optim.SGD(vgg16.parameters(),lr=0.001,momentum=0.9)"
   ]
  },
  {
   "cell_type": "code",
   "execution_count": null,
   "id": "823bfdc0-da07-480b-9671-0e37f622df05",
   "metadata": {},
   "outputs": [],
   "source": [
    "num_epochs = 10\n",
    "losses = []\n",
    "accuracies = []\n",
    "\n",
    "for epoch in range(num_epochs):\n",
    "    running_loss = 0.0\n",
    "    correct = 0\n",
    "    total = 0\n",
    "\n",
    "    for i, data in enumerate(train_loader, 0):  # Iterate over the training data\n",
    "        inputs, labels = data\n",
    "        inputs, labels = inputs.to(device), labels.to(device)  # Move data to the right device (GPU or CPU)\n",
    "\n",
    "        optimizer.zero_grad()  # Zero out the gradients from the previous step\n",
    "\n",
    "        outputs = vgg16(inputs)  # Forward pass: get model predictions\n",
    "        loss = criterion(outputs, labels)  # Calculate loss\n",
    "        loss.backward()  # Backpropagate the loss to compute gradients\n",
    "        optimizer.step()  # Update model parameters based on gradients\n",
    "\n",
    "        running_loss += loss.item()  # Add the current batch's loss to the running loss\n",
    "\n",
    "        _, predicted = torch.max(outputs.data, 1)  # Get the predicted class label (index of max value)\n",
    "        total += labels.size(0)  # Increment the total number of samples\n",
    "        correct += (predicted == labels).sum().item()  # Increment the count of correct predictions\n",
    "\n",
    "    # Calculate average loss and accuracy for the epoch\n",
    "    epoch_loss = running_loss / len(train_loader)\n",
    "    epoch_accuracy = 100 * correct / total\n",
    "\n",
    "    # Append the values for later use\n",
    "    losses.append(epoch_loss)\n",
    "    accuracies.append(epoch_accuracy)\n",
    "\n",
    "    # Print loss and accuracy for this epoch\n",
    "    print(f'Epoch {epoch+1}/{num_epochs}, Loss: {epoch_loss:.4f}, Accuracy: {epoch_accuracy:.2f}%')\n"
   ]
  }
 ],
 "metadata": {
  "kernelspec": {
   "display_name": "Python 3 (ipykernel)",
   "language": "python",
   "name": "python3"
  },
  "language_info": {
   "codemirror_mode": {
    "name": "ipython",
    "version": 3
   },
   "file_extension": ".py",
   "mimetype": "text/x-python",
   "name": "python",
   "nbconvert_exporter": "python",
   "pygments_lexer": "ipython3",
   "version": "3.11.0"
  }
 },
 "nbformat": 4,
 "nbformat_minor": 5
}
