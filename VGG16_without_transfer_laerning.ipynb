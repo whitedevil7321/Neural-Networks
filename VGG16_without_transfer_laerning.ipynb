{
 "cells": [
  {
   "cell_type": "code",
   "execution_count": 1,
   "id": "a5364b65-efab-418b-9fa6-0c662b32f393",
   "metadata": {},
   "outputs": [],
   "source": [
    "import torch \n",
    "import torchvision\n",
    "import torchvision.transforms as transforms\n",
    "from torchvision import models\n",
    "import torch.nn as nn\n",
    "import torch.optim as optim\n",
    "from sklearn.metrics import confusion_matrix\n",
    "import itertools\n",
    "import numpy as np \n",
    "import matplotlib.pyplot as plt\n"
   ]
  },
  {
   "cell_type": "code",
   "execution_count": 2,
   "id": "762f210c-35c8-41b3-b0b4-0caed63dbcf6",
   "metadata": {},
   "outputs": [],
   "source": [
    "transform=transforms.Compose([\n",
    "    transforms.Resize((224,224)),\n",
    "    transforms.ToTensor(),\n",
    "    transforms.Normalize(mean=[0.485,0.456,0.406],std=[0.229,0.224,0.225])\n",
    "    \n",
    "])"
   ]
  },
  {
   "cell_type": "code",
   "execution_count": 3,
   "id": "b38675a7-0872-410e-8e9e-aa53dc8f5d62",
   "metadata": {},
   "outputs": [
    {
     "name": "stdout",
     "output_type": "stream",
     "text": [
      "Files already downloaded and verified\n",
      "Files already downloaded and verified\n"
     ]
    }
   ],
   "source": [
    "#load dataset\n",
    "trainset=torchvision.datasets.CIFAR10(root='./data',train=True,download=True,transform=transform)\n",
    "train_loader=torch.utils.data.DataLoader(trainset,batch_size=32,shuffle=True)\n",
    "\n",
    "\n",
    "\n",
    "#Test Dataset\n",
    "testset=torchvision.datasets.CIFAR10(root='./data',train=False,download=True,transform=transform)\n",
    "test_loader=torch.utils.data.DataLoader(testset,batch_size=32,shuffle=False)"
   ]
  },
  {
   "cell_type": "code",
   "execution_count": 4,
   "id": "b4602012-bbe4-445a-9e00-935b707354f7",
   "metadata": {},
   "outputs": [
    {
     "name": "stderr",
     "output_type": "stream",
     "text": [
      "C:\\Users\\jaher5\\Desktop\\Neural Networks\\myvenv\\Lib\\site-packages\\torchvision\\models\\_utils.py:208: UserWarning: The parameter 'pretrained' is deprecated since 0.13 and may be removed in the future, please use 'weights' instead.\n",
      "  warnings.warn(\n",
      "C:\\Users\\jaher5\\Desktop\\Neural Networks\\myvenv\\Lib\\site-packages\\torchvision\\models\\_utils.py:223: UserWarning: Arguments other than a weight enum or `None` for 'weights' are deprecated since 0.13 and may be removed in the future. The current behavior is equivalent to passing `weights=None`.\n",
      "  warnings.warn(msg)\n"
     ]
    }
   ],
   "source": [
    "vgg16=models.vgg16(pretrained=False)\n",
    "\n",
    "#modify the classifier\n",
    "num_features=vgg16.classifier[6].in_features\n",
    "features=list(vgg16.classifier.children())[:-1]\n",
    "features.extend([nn.Linear(num_features,len(trainset.classes))])\n",
    "vgg16.classifier=nn.Sequential(*features)   #replace classification layer \n",
    "\n",
    "\n",
    "device=torch.device(\"cuda:0\" if torch.cuda.is_available() else \"cpu\")\n",
    "vgg16=vgg16.to(device)\n",
    "\n"
   ]
  },
  {
   "cell_type": "code",
   "execution_count": 5,
   "id": "49f003bc-5f9d-498c-89bc-b2dd9383a5f5",
   "metadata": {},
   "outputs": [],
   "source": [
    "criterion=nn.CrossEntropyLoss()\n",
    "optimizer=optim.SGD(vgg16.parameters(),lr=0.001,momentum=0.9)"
   ]
  },
  {
   "cell_type": "code",
   "execution_count": null,
   "id": "c2430676-4606-4b7f-9885-4bac6bd4af55",
   "metadata": {},
   "outputs": [],
   "source": [
    "num_epochs = 10\n",
    "losses = []\n",
    "accuracies = []\n",
    "\n",
    "for epoch in range(num_epochs):\n",
    "    running_loss = 0.0\n",
    "    correct = 0\n",
    "    total = 0\n",
    "\n",
    "    for i, data in enumerate(train_loader, 0):  # Iterate over the training data\n",
    "        inputs, labels = data\n",
    "        inputs, labels = inputs.to(device), labels.to(device)  # Move data to the right device (GPU or CPU)\n",
    "\n",
    "        optimizer.zero_grad()  # Zero out the gradients from the previous step\n",
    "\n",
    "        outputs = vgg16(inputs)  # Forward pass: get model predictions\n",
    "        loss = criterion(outputs, labels)  # Calculate loss\n",
    "        loss.backward()  # Backpropagate the loss to compute gradients\n",
    "        optimizer.step()  # Update model parameters based on gradients\n",
    "\n",
    "        running_loss += loss.item()  # Add the current batch's loss to the running loss\n",
    "\n",
    "        _, predicted = torch.max(outputs.data, 1)  # Get the predicted class label (index of max value)\n",
    "        total += labels.size(0)  # Increment the total number of samples\n",
    "        correct += (predicted == labels).sum().item()  # Increment the count of correct predictions\n",
    "\n",
    "    # Calculate average loss and accuracy for the epoch\n",
    "    epoch_loss = running_loss / len(train_loader)\n",
    "    epoch_accuracy = 100 * correct / total\n",
    "\n",
    "    # Append the values for later use\n",
    "    losses.append(epoch_loss)\n",
    "    accuracies.append(epoch_accuracy)\n",
    "\n",
    "    # Print loss and accuracy for this epoch\n",
    "    print(f'Epoch {epoch+1}/{num_epochs}, Loss: {epoch_loss:.4f}, Accuracy: {epoch_accuracy:.2f}%')\n"
   ]
  },
  {
   "cell_type": "code",
   "execution_count": null,
   "id": "e3d6b8e9-5bd9-43b0-9cc5-933277225c6e",
   "metadata": {},
   "outputs": [],
   "source": [
    "torch.save(vgg16.state_dict(),\"./vgg16_without_transfer_learning.pth\")"
   ]
  }
 ],
 "metadata": {
  "kernelspec": {
   "display_name": "Python 3 (ipykernel)",
   "language": "python",
   "name": "python3"
  },
  "language_info": {
   "codemirror_mode": {
    "name": "ipython",
    "version": 3
   },
   "file_extension": ".py",
   "mimetype": "text/x-python",
   "name": "python",
   "nbconvert_exporter": "python",
   "pygments_lexer": "ipython3",
   "version": "3.11.0"
  }
 },
 "nbformat": 4,
 "nbformat_minor": 5
}
