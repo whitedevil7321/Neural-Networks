{
 "cells": [
  {
   "cell_type": "code",
   "execution_count": 1,
   "id": "8d86a133-3ce3-4be4-8d77-1a915712400e",
   "metadata": {},
   "outputs": [
    {
     "data": {
      "text/plain": [
       "<torch._C.Generator at 0x23c4340a1f0>"
      ]
     },
     "execution_count": 1,
     "metadata": {},
     "output_type": "execute_result"
    }
   ],
   "source": [
    "import sklearn\n",
    "import torch\n",
    "import torch.nn as nn\n",
    "import torch.optim as optim\n",
    "import torchvision.transforms as transforms\n",
    "from torch.utils.data import Dataset,DataLoader\n",
    "from torchvision.datasets import ImageFolder\n",
    "from sklearn.metrics import accuracy_score,precision_score,f1_score,recall_score\n",
    "import matplotlib.pyplot as plt\n",
    "\n",
    "\n",
    "torch.manual_seed(10)\n"
   ]
  },
  {
   "cell_type": "code",
   "execution_count": 2,
   "id": "89aa2a25-1890-48dd-9a81-c2576c8deff0",
   "metadata": {},
   "outputs": [],
   "source": [
    "class SimpleNN(nn.Module):\n",
    "    def __init__(self):\n",
    "        super(SimpleNN,self).__init__()\n",
    "        self.fc1=nn.Linear(3*256*256,128)\n",
    "        self.relu=nn.ReLU()\n",
    "        self.fc2=nn.Linear(128,2)\n",
    "        self.softmax=nn.Softmax(dim=1)\n",
    "\n",
    "\n",
    "    def forward(self,x):\n",
    "        x=x.view(-1,3*256*256)\n",
    "        x=self.relu(self.fc1(x))\n",
    "        x=self.softmax(self.fc2(x))\n",
    "        return x\n",
    "        \n",
    "        \n"
   ]
  },
  {
   "cell_type": "code",
   "execution_count": 3,
   "id": "f723b5db-b2cf-4def-8426-34c7a4193b95",
   "metadata": {},
   "outputs": [],
   "source": [
    "transform=transforms.Compose([\n",
    "    transforms.Resize((256,256)),\n",
    "    transforms.ToTensor(),\n",
    "    transforms.Normalize((0.5,0.5,0.5),(0.5,0.5,0.5))\n",
    "])\n"
   ]
  },
  {
   "cell_type": "code",
   "execution_count": 4,
   "id": "d49f8fab-4ccc-4d5a-a503-906ba563fbe0",
   "metadata": {},
   "outputs": [],
   "source": [
    "class CustomDataset(Dataset):\n",
    "    def __init__(self,root,transform=None):\n",
    "        self.dataset=ImageFolder(root,transform=transform)\n",
    "\n",
    "    def __len__(self):\n",
    "        return len(self.dataset)\n",
    "\n",
    "    def __getitem__(self,idx):\n",
    "        return self.dataset[idx]\n",
    "\n"
   ]
  },
  {
   "cell_type": "code",
   "execution_count": 5,
   "id": "f88e03f7-bf43-4ddb-87ee-8ce62ef2bb53",
   "metadata": {},
   "outputs": [],
   "source": [
    "train_dataset=CustomDataset(root=\"Flowers_Classification_dataset/train\",transform=transform)\n",
    "test_dataset=CustomDataset(root=\"Flowers_Classification_dataset/valid\",transform=transform)\n",
    "\n",
    "train_loader=DataLoader(dataset=train_dataset,batch_size=64,shuffle=True)\n",
    "test_loader=DataLoader(dataset=test_dataset,batch_size=64,shuffle=True)"
   ]
  },
  {
   "cell_type": "code",
   "execution_count": 6,
   "id": "3928a592-b6ed-40c1-8244-98ffa97c233f",
   "metadata": {},
   "outputs": [],
   "source": [
    "model=SimpleNN()\n",
    "criterion=nn.CrossEntropyLoss()\n",
    "optimizer=optim.Adam(model.parameters(),lr=0.0001)\n"
   ]
  },
  {
   "cell_type": "code",
   "execution_count": 8,
   "id": "37a88452-cbfe-480a-9a38-f292ebd8bc56",
   "metadata": {},
   "outputs": [
    {
     "name": "stdout",
     "output_type": "stream",
     "text": [
      "Epoch: [1/50] Training Loss: 0.5201 Validation Loss: 0.6921\n",
      "Epoch: [2/50] Training Loss: 0.5260 Validation Loss: 0.6984\n",
      "Epoch: [3/50] Training Loss: 0.5321 Validation Loss: 0.6884\n",
      "Epoch: [4/50] Training Loss: 0.5353 Validation Loss: 0.6738\n",
      "Epoch: [5/50] Training Loss: 0.5568 Validation Loss: 0.6772\n",
      "Epoch: [6/50] Training Loss: 0.5295 Validation Loss: 0.6725\n",
      "Epoch: [7/50] Training Loss: 0.5367 Validation Loss: 0.7150\n",
      "Epoch: [8/50] Training Loss: 0.5952 Validation Loss: 0.7206\n",
      "Epoch: [9/50] Training Loss: 0.5764 Validation Loss: 0.7063\n",
      "Epoch: [10/50] Training Loss: 0.5344 Validation Loss: 0.7030\n",
      "Epoch: [11/50] Training Loss: 0.5498 Validation Loss: 0.6968\n",
      "Epoch: [12/50] Training Loss: 0.5166 Validation Loss: 0.7038\n",
      "Epoch: [13/50] Training Loss: 0.5098 Validation Loss: 0.7087\n",
      "Epoch: [14/50] Training Loss: 0.5144 Validation Loss: 0.6983\n",
      "Epoch: [15/50] Training Loss: 0.5077 Validation Loss: 0.6767\n",
      "Epoch: [16/50] Training Loss: 0.5234 Validation Loss: 0.6857\n",
      "Epoch: [17/50] Training Loss: 0.5124 Validation Loss: 0.6670\n",
      "Epoch: [18/50] Training Loss: 0.5115 Validation Loss: 0.6735\n",
      "Epoch: [19/50] Training Loss: 0.5058 Validation Loss: 0.6791\n",
      "Epoch: [20/50] Training Loss: 0.5069 Validation Loss: 0.6525\n",
      "Epoch: [21/50] Training Loss: 0.4998 Validation Loss: 0.6773\n",
      "Epoch: [22/50] Training Loss: 0.5093 Validation Loss: 0.6820\n",
      "Epoch: [23/50] Training Loss: 0.5021 Validation Loss: 0.6771\n",
      "Epoch: [24/50] Training Loss: 0.5155 Validation Loss: 0.6976\n",
      "Epoch: [25/50] Training Loss: 0.5298 Validation Loss: 0.6762\n",
      "Epoch: [26/50] Training Loss: 0.4984 Validation Loss: 0.6772\n",
      "Epoch: [27/50] Training Loss: 0.5148 Validation Loss: 0.6699\n",
      "Epoch: [28/50] Training Loss: 0.4976 Validation Loss: 0.6656\n",
      "Epoch: [29/50] Training Loss: 0.4927 Validation Loss: 0.6743\n",
      "Epoch: [30/50] Training Loss: 0.4949 Validation Loss: 0.6717\n",
      "Epoch: [31/50] Training Loss: 0.4984 Validation Loss: 0.6937\n",
      "Epoch: [32/50] Training Loss: 0.5846 Validation Loss: 0.6762\n",
      "Epoch: [33/50] Training Loss: 0.5367 Validation Loss: 0.6635\n",
      "Epoch: [34/50] Training Loss: 0.5534 Validation Loss: 0.7031\n",
      "Epoch: [35/50] Training Loss: 0.5123 Validation Loss: 0.6672\n",
      "Epoch: [36/50] Training Loss: 0.5064 Validation Loss: 0.6837\n",
      "Epoch: [37/50] Training Loss: 0.4912 Validation Loss: 0.6788\n",
      "Epoch: [38/50] Training Loss: 0.4878 Validation Loss: 0.6874\n",
      "Epoch: [39/50] Training Loss: 0.4820 Validation Loss: 0.6900\n",
      "Epoch: [40/50] Training Loss: 0.5097 Validation Loss: 0.6994\n",
      "Epoch: [41/50] Training Loss: 0.4781 Validation Loss: 0.6950\n",
      "Epoch: [42/50] Training Loss: 0.4844 Validation Loss: 0.6761\n",
      "Epoch: [43/50] Training Loss: 0.4759 Validation Loss: 0.6757\n",
      "Epoch: [44/50] Training Loss: 0.4817 Validation Loss: 0.6694\n",
      "Epoch: [45/50] Training Loss: 0.4722 Validation Loss: 0.6745\n",
      "Epoch: [46/50] Training Loss: 0.4685 Validation Loss: 0.6665\n",
      "Epoch: [47/50] Training Loss: 0.4606 Validation Loss: 0.6673\n",
      "Epoch: [48/50] Training Loss: 0.4593 Validation Loss: 0.6813\n",
      "Epoch: [49/50] Training Loss: 0.4725 Validation Loss: 0.6745\n",
      "Epoch: [50/50] Training Loss: 0.4636 Validation Loss: 0.6876\n"
     ]
    },
    {
     "ename": "AttributeError",
     "evalue": "'builtin_function_or_method' object has no attribute 'numpy'",
     "output_type": "error",
     "traceback": [
      "\u001b[1;31m---------------------------------------------------------------------------\u001b[0m",
      "\u001b[1;31mAttributeError\u001b[0m                            Traceback (most recent call last)",
      "Cell \u001b[1;32mIn[8], line 62\u001b[0m\n\u001b[0;32m     59\u001b[0m     \u001b[38;5;28mprint\u001b[39m(\u001b[38;5;124mf\u001b[39m\u001b[38;5;124m'\u001b[39m\u001b[38;5;124mAccuracy:\u001b[39m\u001b[38;5;132;01m{\u001b[39;00maccuracy\u001b[38;5;132;01m:\u001b[39;00m\u001b[38;5;124m.4f\u001b[39m\u001b[38;5;132;01m}\u001b[39;00m\u001b[38;5;124m,Precision:\u001b[39m\u001b[38;5;132;01m{\u001b[39;00mprecision\u001b[38;5;132;01m:\u001b[39;00m\u001b[38;5;124m.4f\u001b[39m\u001b[38;5;132;01m}\u001b[39;00m\u001b[38;5;124m,F1 Score:\u001b[39m\u001b[38;5;132;01m{\u001b[39;00mf1\u001b[38;5;132;01m:\u001b[39;00m\u001b[38;5;124m.4f\u001b[39m\u001b[38;5;132;01m}\u001b[39;00m\u001b[38;5;124m,Recall:\u001b[39m\u001b[38;5;132;01m{\u001b[39;00mrecall\u001b[38;5;132;01m:\u001b[39;00m\u001b[38;5;124m.4f\u001b[39m\u001b[38;5;132;01m}\u001b[39;00m\u001b[38;5;124m'\u001b[39m)\n\u001b[0;32m     60\u001b[0m     \u001b[38;5;66;03m#print(f'Accuracy:{accuracy:.4f},Precision:{precision:.4f},Recall:{recall:.4f},F1 Score:{f1:.4f}')\u001b[39;00m\n\u001b[1;32m---> 62\u001b[0m \u001b[43mevaluate_model\u001b[49m\u001b[43m(\u001b[49m\u001b[43mmodel\u001b[49m\u001b[43m,\u001b[49m\u001b[43mtest_loader\u001b[49m\u001b[43m)\u001b[49m\n\u001b[0;32m     65\u001b[0m plt\u001b[38;5;241m.\u001b[39mplot(train_losses,label\u001b[38;5;241m=\u001b[39m\u001b[38;5;124m\"\u001b[39m\u001b[38;5;124mTraining Data\u001b[39m\u001b[38;5;124m\"\u001b[39m)\n\u001b[0;32m     66\u001b[0m plt\u001b[38;5;241m.\u001b[39mplot(valid_losses_losses,label\u001b[38;5;241m=\u001b[39m\u001b[38;5;124m\"\u001b[39m\u001b[38;5;124mTraining Data\u001b[39m\u001b[38;5;124m\"\u001b[39m)\n",
      "Cell \u001b[1;32mIn[8], line 51\u001b[0m, in \u001b[0;36mevaluate_model\u001b[1;34m(model, loader)\u001b[0m\n\u001b[0;32m     49\u001b[0m         outputs\u001b[38;5;241m=\u001b[39mmodel(inputs)\n\u001b[0;32m     50\u001b[0m         _,pred\u001b[38;5;241m=\u001b[39mtorch\u001b[38;5;241m.\u001b[39mmax(outputs,\u001b[38;5;241m1\u001b[39m)\n\u001b[1;32m---> 51\u001b[0m         all_preds\u001b[38;5;241m.\u001b[39mextend(\u001b[43mpred\u001b[49m\u001b[38;5;241;43m.\u001b[39;49m\u001b[43mcpu\u001b[49m\u001b[38;5;241;43m.\u001b[39;49m\u001b[43mnumpy\u001b[49m())\n\u001b[0;32m     52\u001b[0m         all_labels\u001b[38;5;241m.\u001b[39mextend(labels\u001b[38;5;241m.\u001b[39mcpu\u001b[38;5;241m.\u001b[39mnumpy())\n\u001b[0;32m     54\u001b[0m accuracy \u001b[38;5;241m=\u001b[39maccuracy_score(all_labels,all_preds)\n",
      "\u001b[1;31mAttributeError\u001b[0m: 'builtin_function_or_method' object has no attribute 'numpy'"
     ]
    }
   ],
   "source": [
    "num_epochs=50\n",
    "\n",
    "train_losses=[]\n",
    "valid_losses=[]\n",
    "\n",
    "for epoch in range(num_epochs):\n",
    "    model.train()\n",
    "    running_loss=0.00\n",
    "    for inputs,labels in train_loader:\n",
    "        optimizer.zero_grad()\n",
    "        outputs=model(inputs)\n",
    "        loss=criterion(outputs,labels)\n",
    "        loss.backward()\n",
    "        optimizer.step()\n",
    "        running_loss+=loss.item()\n",
    "\n",
    "    average_training_loss=running_loss/len(train_loader)\n",
    "    train_losses.append(average_training_loss)\n",
    "\n",
    "\n",
    "\n",
    "    #valiation loop\n",
    "    model.eval()\n",
    "    valid_loss=0.00\n",
    "    with torch.no_grad():\n",
    "        for inputs,labels in test_loader:\n",
    "            outputs=model(inputs)\n",
    "            loss=criterion(outputs,labels)\n",
    "            valid_loss+=loss.item()\n",
    "\n",
    "    average_valid_loss=valid_loss/len(test_loader)\n",
    "    valid_losses.append(average_valid_loss)\n",
    "\n",
    "\n",
    "    print(f'Epoch: [{epoch + 1}/{num_epochs}] '\n",
    "          f'Training Loss: {average_training_loss:.4f} '\n",
    "          f'Validation Loss: {average_valid_loss:.4f}')\n",
    "\n",
    " \n",
    "    \n",
    "#evaluate model\n",
    "def evaluate_model(model,loader):\n",
    "    model.eval()\n",
    "    all_preds=[]\n",
    "    all_labels=[]\n",
    "\n",
    "    with torch.no_grad():\n",
    "        for inputs,labels in loader:\n",
    "            outputs=model(inputs)\n",
    "            _,pred=torch.max(outputs,1)\n",
    "            all_preds.extend(pred.cpu.numpy())\n",
    "            all_labels.extend(labels.cpu.numpy())\n",
    "\n",
    "    accuracy =accuracy_score(all_labels,all_preds)\n",
    "    precision=precision_score(all_labels,all_preds,average=\"weighted\")\n",
    "    f1=f1_score(all_labels,all_preds,average=\"weighted\")\n",
    "    recall=recall_score(all_labels,all_preds,average=\"weighted\")\n",
    "\n",
    "    print(f'Accuracy:{accuracy:.4f},Precision:{precision:.4f},F1 Score:{f1:.4f},Recall:{recall:.4f}')\n",
    "    #print(f'Accuracy:{accuracy:.4f},Precision:{precision:.4f},Recall:{recall:.4f},F1 Score:{f1:.4f}')\n",
    "\n",
    "evaluate_model(model,test_loader)\n",
    "\n",
    "\n",
    "plt.plot(train_losses,label=\"Training Data\")\n",
    "plt.plot(valid_losses_losses,label=\"Training Data\")\n",
    "plt.xlabel(\"epochs\")\n",
    "plt.ylabel(\"Loss\")\n",
    "plt.legend()\n",
    "plt.show()\n",
    "\n",
    "\n",
    "torch.save(model.state.dict(),\"binary_classification_model.pth\")\n",
    "    \n",
    "    \n",
    "        "
   ]
  }
 ],
 "metadata": {
  "kernelspec": {
   "display_name": "Python 3 (ipykernel)",
   "language": "python",
   "name": "python3"
  },
  "language_info": {
   "codemirror_mode": {
    "name": "ipython",
    "version": 3
   },
   "file_extension": ".py",
   "mimetype": "text/x-python",
   "name": "python",
   "nbconvert_exporter": "python",
   "pygments_lexer": "ipython3",
   "version": "3.11.0"
  }
 },
 "nbformat": 4,
 "nbformat_minor": 5
}
